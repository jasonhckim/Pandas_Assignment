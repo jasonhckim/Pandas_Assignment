{
  "nbformat": 4,
  "nbformat_minor": 0,
  "metadata": {
    "colab": {
      "name": "Assignment_PANDAS_NUMPY.ipynb",
      "provenance": []
    },
    "kernelspec": {
      "name": "python3",
      "display_name": "Python 3"
    },
    "language_info": {
      "name": "python"
    }
  },
  "cells": [
    {
      "cell_type": "code",
      "execution_count": 10,
      "metadata": {
        "colab": {
          "base_uri": "https://localhost:8080/"
        },
        "id": "Sk5dtyhoPmdz",
        "outputId": "37883a34-0007-499e-cb06-81c379f33f66"
      },
      "outputs": [
        {
          "output_type": "execute_result",
          "data": {
            "text/plain": [
              "array([0., 0., 0.])"
            ]
          },
          "metadata": {},
          "execution_count": 10
        }
      ],
      "source": [
        "# generate an array of zeroes using inbuilt numpy function\n",
        "import numpy as np\n",
        "\n",
        "np.zeros(3)"
      ]
    },
    {
      "cell_type": "code",
      "source": [
        "#run the given code and find the dot product of both arrays\n",
        "a = np.random.randint(2,10,(3,4))\n",
        "b = np.random.randint(2,10,(4,3))\n",
        "print(a)\n",
        "print(b)"
      ],
      "metadata": {
        "colab": {
          "base_uri": "https://localhost:8080/"
        },
        "id": "Edi9R97EQZU7",
        "outputId": "05909d2d-10e3-49c9-acdc-8a46ecbf6903"
      },
      "execution_count": 11,
      "outputs": [
        {
          "output_type": "stream",
          "name": "stdout",
          "text": [
            "[[4 6 3 8]\n",
            " [2 4 9 7]\n",
            " [2 7 6 8]]\n",
            "[[5 9 9]\n",
            " [8 8 7]\n",
            " [3 9 8]\n",
            " [7 3 2]]\n"
          ]
        }
      ]
    },
    {
      "cell_type": "code",
      "source": [
        "a.dot(b)"
      ],
      "metadata": {
        "colab": {
          "base_uri": "https://localhost:8080/"
        },
        "id": "tXgRmnE9Qpm3",
        "outputId": "c1984bf1-efa0-4cda-9bda-68c1d92b5484"
      },
      "execution_count": 12,
      "outputs": [
        {
          "output_type": "execute_result",
          "data": {
            "text/plain": [
              "array([[133, 135, 118],\n",
              "       [118, 152, 132],\n",
              "       [140, 152, 131]])"
            ]
          },
          "metadata": {},
          "execution_count": 12
        }
      ]
    },
    {
      "cell_type": "code",
      "source": [
        "b.dot(a)"
      ],
      "metadata": {
        "colab": {
          "base_uri": "https://localhost:8080/"
        },
        "id": "HJthR2KcQtt7",
        "outputId": "f88aca1f-8183-43ce-8bc7-c7107596b18f"
      },
      "execution_count": 13,
      "outputs": [
        {
          "output_type": "execute_result",
          "data": {
            "text/plain": [
              "array([[ 56, 129, 150, 175],\n",
              "       [ 62, 129, 138, 176],\n",
              "       [ 46, 110, 138, 151],\n",
              "       [ 38,  68,  60,  93]])"
            ]
          },
          "metadata": {},
          "execution_count": 13
        }
      ]
    },
    {
      "cell_type": "code",
      "source": [
        "# read the csv file provided using pandas and display the first 5 entries"
      ],
      "metadata": {
        "id": "3coEYdytQyve"
      },
      "execution_count": null,
      "outputs": []
    },
    {
      "cell_type": "code",
      "source": [
        "import pandas as pd"
      ],
      "metadata": {
        "id": "MrQ4MRErQ27a"
      },
      "execution_count": 14,
      "outputs": []
    },
    {
      "cell_type": "code",
      "source": [
        "#read the csv from drive\n",
        "data = pd.read_csv('/content/data.csv')"
      ],
      "metadata": {
        "id": "iJSGs4RURQs_"
      },
      "execution_count": 40,
      "outputs": []
    },
    {
      "cell_type": "code",
      "source": [
        "# display the first 5 entries\n",
        "data.head(5)"
      ],
      "metadata": {
        "colab": {
          "base_uri": "https://localhost:8080/",
          "height": 206
        },
        "id": "p0kcCtG4RXqx",
        "outputId": "9238a574-9349-4fb6-e4bb-0437d4acf197"
      },
      "execution_count": 41,
      "outputs": [
        {
          "output_type": "execute_result",
          "data": {
            "text/html": [
              "<div>\n",
              "<style scoped>\n",
              "    .dataframe tbody tr th:only-of-type {\n",
              "        vertical-align: middle;\n",
              "    }\n",
              "\n",
              "    .dataframe tbody tr th {\n",
              "        vertical-align: top;\n",
              "    }\n",
              "\n",
              "    .dataframe thead th {\n",
              "        text-align: right;\n",
              "    }\n",
              "</style>\n",
              "<table border=\"1\" class=\"dataframe\">\n",
              "  <thead>\n",
              "    <tr style=\"text-align: right;\">\n",
              "      <th></th>\n",
              "      <th>OBJECTID</th>\n",
              "      <th>UNIT_NAME</th>\n",
              "      <th>DESCRIPTION</th>\n",
              "      <th>ACRES</th>\n",
              "      <th>SHAPE.AREA</th>\n",
              "      <th>SHAPE.LEN</th>\n",
              "    </tr>\n",
              "  </thead>\n",
              "  <tbody>\n",
              "    <tr>\n",
              "      <th>0</th>\n",
              "      <td>21</td>\n",
              "      <td>Fort Stevenson State Park</td>\n",
              "      <td>State Park</td>\n",
              "      <td>586.48</td>\n",
              "      <td>0.000284</td>\n",
              "      <td>0.135641</td>\n",
              "    </tr>\n",
              "    <tr>\n",
              "      <th>1</th>\n",
              "      <td>22</td>\n",
              "      <td>Beaver Lake State Park</td>\n",
              "      <td>State Park</td>\n",
              "      <td>273.16</td>\n",
              "      <td>0.000129</td>\n",
              "      <td>0.080067</td>\n",
              "    </tr>\n",
              "    <tr>\n",
              "      <th>2</th>\n",
              "      <td>23</td>\n",
              "      <td>Fort Abraham Lincoln State Park</td>\n",
              "      <td>State Park</td>\n",
              "      <td>836.47</td>\n",
              "      <td>0.000399</td>\n",
              "      <td>0.119868</td>\n",
              "    </tr>\n",
              "    <tr>\n",
              "      <th>3</th>\n",
              "      <td>24</td>\n",
              "      <td>Fort Ransom State Park</td>\n",
              "      <td>State Park</td>\n",
              "      <td>933.78</td>\n",
              "      <td>0.000444</td>\n",
              "      <td>0.128733</td>\n",
              "    </tr>\n",
              "    <tr>\n",
              "      <th>4</th>\n",
              "      <td>25</td>\n",
              "      <td>Grahams Island State Park</td>\n",
              "      <td>State Park</td>\n",
              "      <td>959.33</td>\n",
              "      <td>0.000469</td>\n",
              "      <td>0.125546</td>\n",
              "    </tr>\n",
              "  </tbody>\n",
              "</table>\n",
              "</div>"
            ],
            "text/plain": [
              "   OBJECTID                        UNIT_NAME  ... SHAPE.AREA  SHAPE.LEN\n",
              "0        21        Fort Stevenson State Park  ...   0.000284   0.135641\n",
              "1        22           Beaver Lake State Park  ...   0.000129   0.080067\n",
              "2        23  Fort Abraham Lincoln State Park  ...   0.000399   0.119868\n",
              "3        24           Fort Ransom State Park  ...   0.000444   0.128733\n",
              "4        25        Grahams Island State Park  ...   0.000469   0.125546\n",
              "\n",
              "[5 rows x 6 columns]"
            ]
          },
          "metadata": {},
          "execution_count": 41
        }
      ]
    },
    {
      "cell_type": "code",
      "source": [
        "#decribe the data with all features\n",
        "data.columns"
      ],
      "metadata": {
        "colab": {
          "base_uri": "https://localhost:8080/"
        },
        "id": "rLa-tvTaRbzB",
        "outputId": "331055f8-8b2f-4fea-def5-e4f6babcecad"
      },
      "execution_count": 42,
      "outputs": [
        {
          "output_type": "execute_result",
          "data": {
            "text/plain": [
              "Index(['OBJECTID', 'UNIT_NAME', 'DESCRIPTION', 'ACRES', 'SHAPE.AREA',\n",
              "       'SHAPE.LEN'],\n",
              "      dtype='object')"
            ]
          },
          "metadata": {},
          "execution_count": 42
        }
      ]
    },
    {
      "cell_type": "code",
      "source": [
        "# find the total count of missing values for each feature\n",
        "len(data.isnull())"
      ],
      "metadata": {
        "colab": {
          "base_uri": "https://localhost:8080/"
        },
        "id": "XkAqkw2dRrPU",
        "outputId": "a1694f68-4e79-4995-eb23-c038d3c5bd7c"
      },
      "execution_count": 43,
      "outputs": [
        {
          "output_type": "execute_result",
          "data": {
            "text/plain": [
              "25"
            ]
          },
          "metadata": {},
          "execution_count": 43
        }
      ]
    },
    {
      "cell_type": "code",
      "source": [
        "# display all the unique values from the 'DESCRIPTION' column\n",
        "data.DESCRIPTION.unique()"
      ],
      "metadata": {
        "colab": {
          "base_uri": "https://localhost:8080/"
        },
        "id": "pwjSsJNOUDOB",
        "outputId": "0274069a-5d59-4880-d564-12228ca52a26"
      },
      "execution_count": 45,
      "outputs": [
        {
          "output_type": "execute_result",
          "data": {
            "text/plain": [
              "array(['State Park', 'Interpretive Center', 'State Recreation Area',\n",
              "       'State Natural Area', 'State Nature Preserve'], dtype=object)"
            ]
          },
          "metadata": {},
          "execution_count": 45
        }
      ]
    },
    {
      "cell_type": "code",
      "source": [
        "# create a grouped table using 'Description' as the grouping columns with the means of all the other columns\n",
        "data.groupby('DESCRIPTION').mean()"
      ],
      "metadata": {
        "colab": {
          "base_uri": "https://localhost:8080/",
          "height": 238
        },
        "id": "XVQcx-XCVHvu",
        "outputId": "ad85319f-173c-44d2-ca93-b0c01fb8ab41"
      },
      "execution_count": 48,
      "outputs": [
        {
          "output_type": "execute_result",
          "data": {
            "text/html": [
              "<div>\n",
              "<style scoped>\n",
              "    .dataframe tbody tr th:only-of-type {\n",
              "        vertical-align: middle;\n",
              "    }\n",
              "\n",
              "    .dataframe tbody tr th {\n",
              "        vertical-align: top;\n",
              "    }\n",
              "\n",
              "    .dataframe thead th {\n",
              "        text-align: right;\n",
              "    }\n",
              "</style>\n",
              "<table border=\"1\" class=\"dataframe\">\n",
              "  <thead>\n",
              "    <tr style=\"text-align: right;\">\n",
              "      <th></th>\n",
              "      <th>OBJECTID</th>\n",
              "      <th>ACRES</th>\n",
              "      <th>SHAPE.AREA</th>\n",
              "      <th>SHAPE.LEN</th>\n",
              "    </tr>\n",
              "    <tr>\n",
              "      <th>DESCRIPTION</th>\n",
              "      <th></th>\n",
              "      <th></th>\n",
              "      <th></th>\n",
              "      <th></th>\n",
              "    </tr>\n",
              "  </thead>\n",
              "  <tbody>\n",
              "    <tr>\n",
              "      <th>Interpretive Center</th>\n",
              "      <td>29.000000</td>\n",
              "      <td>14.710000</td>\n",
              "      <td>0.000007</td>\n",
              "      <td>0.016774</td>\n",
              "    </tr>\n",
              "    <tr>\n",
              "      <th>State Natural Area</th>\n",
              "      <td>39.000000</td>\n",
              "      <td>219.615000</td>\n",
              "      <td>0.000105</td>\n",
              "      <td>0.077137</td>\n",
              "    </tr>\n",
              "    <tr>\n",
              "      <th>State Nature Preserve</th>\n",
              "      <td>39.500000</td>\n",
              "      <td>84.095000</td>\n",
              "      <td>0.000041</td>\n",
              "      <td>0.037175</td>\n",
              "    </tr>\n",
              "    <tr>\n",
              "      <th>State Park</th>\n",
              "      <td>28.538462</td>\n",
              "      <td>1168.668462</td>\n",
              "      <td>0.000567</td>\n",
              "      <td>0.150326</td>\n",
              "    </tr>\n",
              "    <tr>\n",
              "      <th>State Recreation Area</th>\n",
              "      <td>38.285714</td>\n",
              "      <td>326.934286</td>\n",
              "      <td>0.000162</td>\n",
              "      <td>0.078135</td>\n",
              "    </tr>\n",
              "  </tbody>\n",
              "</table>\n",
              "</div>"
            ],
            "text/plain": [
              "                        OBJECTID        ACRES  SHAPE.AREA  SHAPE.LEN\n",
              "DESCRIPTION                                                         \n",
              "Interpretive Center    29.000000    14.710000    0.000007   0.016774\n",
              "State Natural Area     39.000000   219.615000    0.000105   0.077137\n",
              "State Nature Preserve  39.500000    84.095000    0.000041   0.037175\n",
              "State Park             28.538462  1168.668462    0.000567   0.150326\n",
              "State Recreation Area  38.285714   326.934286    0.000162   0.078135"
            ]
          },
          "metadata": {},
          "execution_count": 48
        }
      ]
    },
    {
      "cell_type": "code",
      "source": [
        "# generate a random sample of 10 rows from the data\n",
        "data.sample(5)"
      ],
      "metadata": {
        "colab": {
          "base_uri": "https://localhost:8080/",
          "height": 206
        },
        "id": "mmCddPUtWxSp",
        "outputId": "69a73f59-d78a-4de6-8f97-550e363364e7"
      },
      "execution_count": 49,
      "outputs": [
        {
          "output_type": "execute_result",
          "data": {
            "text/html": [
              "<div>\n",
              "<style scoped>\n",
              "    .dataframe tbody tr th:only-of-type {\n",
              "        vertical-align: middle;\n",
              "    }\n",
              "\n",
              "    .dataframe tbody tr th {\n",
              "        vertical-align: top;\n",
              "    }\n",
              "\n",
              "    .dataframe thead th {\n",
              "        text-align: right;\n",
              "    }\n",
              "</style>\n",
              "<table border=\"1\" class=\"dataframe\">\n",
              "  <thead>\n",
              "    <tr style=\"text-align: right;\">\n",
              "      <th></th>\n",
              "      <th>OBJECTID</th>\n",
              "      <th>UNIT_NAME</th>\n",
              "      <th>DESCRIPTION</th>\n",
              "      <th>ACRES</th>\n",
              "      <th>SHAPE.AREA</th>\n",
              "      <th>SHAPE.LEN</th>\n",
              "    </tr>\n",
              "  </thead>\n",
              "  <tbody>\n",
              "    <tr>\n",
              "      <th>3</th>\n",
              "      <td>24</td>\n",
              "      <td>Fort Ransom State Park</td>\n",
              "      <td>State Park</td>\n",
              "      <td>933.78</td>\n",
              "      <td>0.000444</td>\n",
              "      <td>0.128733</td>\n",
              "    </tr>\n",
              "    <tr>\n",
              "      <th>16</th>\n",
              "      <td>37</td>\n",
              "      <td>Elkhorn State Natural Area</td>\n",
              "      <td>State Natural Area</td>\n",
              "      <td>264.84</td>\n",
              "      <td>0.000127</td>\n",
              "      <td>0.067082</td>\n",
              "    </tr>\n",
              "    <tr>\n",
              "      <th>18</th>\n",
              "      <td>39</td>\n",
              "      <td>Gunlogson State Nature Preserve</td>\n",
              "      <td>State Nature Preserve</td>\n",
              "      <td>95.89</td>\n",
              "      <td>0.000048</td>\n",
              "      <td>0.040465</td>\n",
              "    </tr>\n",
              "    <tr>\n",
              "      <th>4</th>\n",
              "      <td>25</td>\n",
              "      <td>Grahams Island State Park</td>\n",
              "      <td>State Park</td>\n",
              "      <td>959.33</td>\n",
              "      <td>0.000469</td>\n",
              "      <td>0.125546</td>\n",
              "    </tr>\n",
              "    <tr>\n",
              "      <th>22</th>\n",
              "      <td>44</td>\n",
              "      <td>Turtle Mountain State Recreation Area</td>\n",
              "      <td>State Recreation Area</td>\n",
              "      <td>695.04</td>\n",
              "      <td>0.000345</td>\n",
              "      <td>0.086487</td>\n",
              "    </tr>\n",
              "  </tbody>\n",
              "</table>\n",
              "</div>"
            ],
            "text/plain": [
              "    OBJECTID                              UNIT_NAME  ... SHAPE.AREA  SHAPE.LEN\n",
              "3         24                 Fort Ransom State Park  ...   0.000444   0.128733\n",
              "16        37             Elkhorn State Natural Area  ...   0.000127   0.067082\n",
              "18        39        Gunlogson State Nature Preserve  ...   0.000048   0.040465\n",
              "4         25              Grahams Island State Park  ...   0.000469   0.125546\n",
              "22        44  Turtle Mountain State Recreation Area  ...   0.000345   0.086487\n",
              "\n",
              "[5 rows x 6 columns]"
            ]
          },
          "metadata": {},
          "execution_count": 49
        }
      ]
    },
    {
      "cell_type": "code",
      "source": [
        "# add a feature called 'New_Feature' to the new Dataset and Add random float values in between 0 and 1 using numpy\n",
        "data['New Feature'] = np.random.random(data.shape[0])"
      ],
      "metadata": {
        "id": "cXTpP92uXbHk"
      },
      "execution_count": 53,
      "outputs": []
    },
    {
      "cell_type": "code",
      "source": [
        "print(data['New Feature'])"
      ],
      "metadata": {
        "colab": {
          "base_uri": "https://localhost:8080/"
        },
        "id": "y7Wl9XbGbhjF",
        "outputId": "8b9db0b5-2263-4cc7-b20e-874a4c4c4d25"
      },
      "execution_count": 54,
      "outputs": [
        {
          "output_type": "stream",
          "name": "stdout",
          "text": [
            "0     0.656636\n",
            "1     0.540504\n",
            "2     0.741481\n",
            "3     0.144871\n",
            "4     0.336068\n",
            "5     0.891297\n",
            "6     0.180078\n",
            "7     0.462590\n",
            "8     0.108162\n",
            "9     0.218717\n",
            "10    0.932994\n",
            "11    0.282975\n",
            "12    0.891183\n",
            "13    0.858372\n",
            "14    0.454209\n",
            "15    0.488253\n",
            "16    0.698479\n",
            "17    0.593190\n",
            "18    0.517200\n",
            "19    0.239961\n",
            "20    0.132759\n",
            "21    0.598014\n",
            "22    0.574794\n",
            "23    0.235476\n",
            "24    0.535263\n",
            "Name: New Feature, dtype: float64\n"
          ]
        }
      ]
    },
    {
      "cell_type": "code",
      "source": [
        "# replace zero value of column 'OBJECTID' with mean value permanently\n",
        "data.replace(0,data.OBJECTID.mean(),inplace=True)"
      ],
      "metadata": {
        "id": "UbRuFNvgYJvr"
      },
      "execution_count": 59,
      "outputs": []
    },
    {
      "cell_type": "code",
      "source": [
        "data.OBJECTID"
      ],
      "metadata": {
        "colab": {
          "base_uri": "https://localhost:8080/"
        },
        "id": "GiJxRIckYvLD",
        "outputId": "c98dc1c6-6c9f-4f69-849e-040799e02ff1"
      },
      "execution_count": 60,
      "outputs": [
        {
          "output_type": "execute_result",
          "data": {
            "text/plain": [
              "0     21\n",
              "1     22\n",
              "2     23\n",
              "3     24\n",
              "4     25\n",
              "5     26\n",
              "6     27\n",
              "7     28\n",
              "8     29\n",
              "9     30\n",
              "10    31\n",
              "11    32\n",
              "12    35\n",
              "13    36\n",
              "14    33\n",
              "15    34\n",
              "16    37\n",
              "17    38\n",
              "18    39\n",
              "19    40\n",
              "20    41\n",
              "21    43\n",
              "22    44\n",
              "23    45\n",
              "24    42\n",
              "Name: OBJECTID, dtype: int64"
            ]
          },
          "metadata": {},
          "execution_count": 60
        }
      ]
    }
  ]
}